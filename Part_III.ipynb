{
 "cells": [
  {
   "cell_type": "markdown",
   "metadata": {},
   "source": [
    "# Daily News for Stock Market Prediction - Part III<a name=\"breakdown\"></a>\n",
    "\n",
    "In this project, we will create a classifier that can predict stock market movement based on daily news headlines. \n",
    "\n",
    "Before we get started, make sure to have gone through the part I & II since we will use the outcome and methods illustrated in it.\n",
    "\n",
    "Here's the phase breakdown of the part III:\n",
    "\n",
    "[Phase1: ](#phase1)  "
   ]
  },
  {
   "cell_type": "code",
   "execution_count": null,
   "metadata": {},
   "outputs": [],
   "source": []
  },
  {
   "cell_type": "markdown",
   "metadata": {},
   "source": [
    "## <a name=\"phase1\"></a> \n",
    "[Return to phase breakdown](#breakdown)"
   ]
  },
  {
   "cell_type": "code",
   "execution_count": null,
   "metadata": {},
   "outputs": [],
   "source": []
  }
 ],
 "metadata": {
  "kernelspec": {
   "display_name": "Python 3",
   "language": "python",
   "name": "python3"
  },
  "language_info": {
   "codemirror_mode": {
    "name": "ipython",
    "version": 3
   },
   "file_extension": ".py",
   "mimetype": "text/x-python",
   "name": "python",
   "nbconvert_exporter": "python",
   "pygments_lexer": "ipython3",
   "version": "3.6.2"
  }
 },
 "nbformat": 4,
 "nbformat_minor": 2
}
